{
 "cells": [
  {
   "cell_type": "code",
   "execution_count": 2,
   "metadata": {},
   "outputs": [],
   "source": [
    "import pandas as pd\n",
    "import pyodbc\n",
    "import glob\n"
   ]
  },
  {
   "cell_type": "code",
   "execution_count": 8,
   "metadata": {},
   "outputs": [],
   "source": [
    "\n",
    "# DB connection\n",
    "conn = pyodbc.connect(\n",
    "    'DRIVER={SQL Server};SERVER=DESKTOP-32I8LFV;DATABASE=CensusData;Trusted_Connection=yes;'\n",
    ")\n",
    "cursor = conn.cursor()\n"
   ]
  },
  {
   "cell_type": "code",
   "execution_count": 17,
   "metadata": {},
   "outputs": [],
   "source": [
    "import pandas as pd\n",
    "\n",
    "def safe_val(val):\n",
    "    return None if pd.isna(val) else val\n",
    "\n",
    "def insert_data(row):\n",
    "    year = int(safe_val(row['year']))\n",
    "    StatFP = str(safe_val(row['state'])).zfill(2)\n",
    "    CountyFP = str(safe_val(row['county'])).zfill(3)\n",
    "    Tract = str(safe_val(row['tract'])).zfill(6)\n",
    "\n",
    "    # === GEOID_INFO ===\n",
    "    cursor.execute(\"\"\"\n",
    "        IF NOT EXISTS (\n",
    "            SELECT 1 FROM Geoid_info WHERE Year=? AND StatFP=? AND CountyFP=? AND Tract=?\n",
    "        )\n",
    "        INSERT INTO Geoid_info (Year, StatFP, CountyFP, Tract)\n",
    "        VALUES (?, ?, ?, ?)\n",
    "    \"\"\", year, StatFP, CountyFP, Tract, year, StatFP, CountyFP, Tract)\n",
    "\n",
    "    # === POPULATION_DEMOGRAPHICS ===\n",
    "    cursor.execute(\"\"\"\n",
    "        IF NOT EXISTS (\n",
    "            SELECT 1 FROM Population_Demographics WHERE Year=? AND StatFP=? AND CountyFP=? AND Tract=?\n",
    "        )\n",
    "        INSERT INTO Population_Demographics\n",
    "        VALUES (?, ?, ?, ?, ?, ?, ?, ?, ?, ?, ?, ?, ?, ?, ?)\n",
    "    \"\"\", year, StatFP, CountyFP, Tract,\n",
    "         year, StatFP, CountyFP, Tract,\n",
    "         safe_val(row['Median Age']),\n",
    "         safe_val(row['White']),\n",
    "         safe_val(row['Black or African American']),\n",
    "         safe_val(row['Hispanic or Latino']),\n",
    "         safe_val(row['Asian']),\n",
    "         safe_val(row['American Indian/Alaska Native']),\n",
    "         safe_val(row['Native Hawaiian & Pacific Islander']),\n",
    "         safe_val(row['Total Male Population']),\n",
    "         safe_val(row['Total Female Population']),\n",
    "         safe_val(row['With Disability']),\n",
    "         safe_val(row['With Health Insurance']))\n",
    "\n",
    "    # === SOCIOECONOMIC_FACTORS ===\n",
    "    cursor.execute(\"\"\"\n",
    "        IF NOT EXISTS (\n",
    "            SELECT 1 FROM Socioeconomic_Factors WHERE Year=? AND StatFP=? AND CountyFP=? AND Tract=?\n",
    "        )\n",
    "        INSERT INTO Socioeconomic_Factors\n",
    "        VALUES (?, ?, ?, ?, ?, ?, ?, ?, ?, ?, ?, ?, ?, ?, ?, ?)\n",
    "    \"\"\", year, StatFP, CountyFP, Tract,\n",
    "         year, StatFP, CountyFP, Tract,\n",
    "         safe_val(row['Median Household Income']),\n",
    "         safe_val(row['Per Capita Income']),\n",
    "         safe_val(row['People Below Poverty Line']),\n",
    "         safe_val(row['Child Poverty Rate']),\n",
    "         safe_val(row['High School Graduate']),\n",
    "         safe_val(row['Some College']),\n",
    "         safe_val(row[\"Bachelor’s Degree or Higher\"]),\n",
    "         safe_val(row['In Labor Force']),\n",
    "         safe_val(row['Civilian Labor Force']),\n",
    "         safe_val(row['Employed']),\n",
    "         safe_val(row['Unemployed']),\n",
    "         safe_val(row['Not in Labor Force']))\n",
    "\n",
    "    # === HOUSING_DATA ===\n",
    "    cursor.execute(\"\"\"\n",
    "        IF NOT EXISTS (\n",
    "            SELECT 1 FROM Housing_Data WHERE Year=? AND StatFP=? AND CountyFP=? AND Tract=?\n",
    "        )\n",
    "        INSERT INTO Housing_Data\n",
    "        VALUES (?, ?, ?, ?, ?, ?, ?, ?, ?, ?)\n",
    "    \"\"\", year, StatFP, CountyFP, Tract,\n",
    "         year, StatFP, CountyFP, Tract,\n",
    "         safe_val(row['Vacant Housing Units']),\n",
    "         safe_val(row['Owner-Occupied Units']),\n",
    "         safe_val(row['Renter-Occupied Units']),\n",
    "         safe_val(row['Median Home Value']),\n",
    "         safe_val(row['Median Gross Rent']),\n",
    "         safe_val(row['Household Size']))\n",
    "\n",
    "    # === TRANSPORTATION_MOBILITY ===\n",
    "    cursor.execute(\"\"\"\n",
    "        IF NOT EXISTS (\n",
    "            SELECT 1 FROM Transportation_Mobility WHERE Year=? AND StatFP=? AND CountyFP=? AND Tract=?\n",
    "        )\n",
    "        INSERT INTO Transportation_Mobility\n",
    "        VALUES (?, ?, ?, ?, ?, ?, ?, ?, ?, ?, ?, ?)\n",
    "    \"\"\", year, StatFP, CountyFP, Tract,\n",
    "         year, StatFP, CountyFP, Tract,\n",
    "         safe_val(row['Worked at Home']),\n",
    "         safe_val(row['Public Transportation']),\n",
    "         safe_val(row['Average Travel Time to Work']),\n",
    "         safe_val(row['No Vehicle Available']),\n",
    "         safe_val(row['1 Vehicle Available']),\n",
    "         safe_val(row['2 Vehicles Available']),\n",
    "         safe_val(row['3 or More Vehicles Available']),\n",
    "         safe_val(row['Car Ownership per Household']))\n",
    "\n",
    "    conn.commit()\n"
   ]
  },
  {
   "cell_type": "code",
   "execution_count": 18,
   "metadata": {},
   "outputs": [
    {
     "name": "stdout",
     "output_type": "stream",
     "text": [
      "Inserting: acs_race_population_2012.csv\n",
      "Inserting: acs_race_population_2013.csv\n",
      "Inserting: acs_race_population_2014.csv\n",
      "Inserting: acs_race_population_2015.csv\n"
     ]
    },
    {
     "ename": "KeyboardInterrupt",
     "evalue": "",
     "output_type": "error",
     "traceback": [
      "\u001b[1;31m---------------------------------------------------------------------------\u001b[0m",
      "\u001b[1;31mKeyboardInterrupt\u001b[0m                         Traceback (most recent call last)",
      "Cell \u001b[1;32mIn[18], line 10\u001b[0m\n\u001b[0;32m      7\u001b[0m     df\u001b[38;5;241m.\u001b[39mcolumns \u001b[38;5;241m=\u001b[39m df\u001b[38;5;241m.\u001b[39mcolumns\u001b[38;5;241m.\u001b[39mstr\u001b[38;5;241m.\u001b[39mstrip()\n\u001b[0;32m      9\u001b[0m     \u001b[38;5;28;01mfor\u001b[39;00m _, row \u001b[38;5;129;01min\u001b[39;00m df\u001b[38;5;241m.\u001b[39miterrows():\n\u001b[1;32m---> 10\u001b[0m         \u001b[43minsert_data\u001b[49m\u001b[43m(\u001b[49m\u001b[43mrow\u001b[49m\u001b[43m)\u001b[49m\n\u001b[0;32m     12\u001b[0m \u001b[38;5;28mprint\u001b[39m(\u001b[38;5;124m\"\u001b[39m\u001b[38;5;124m✅ All data inserted.\u001b[39m\u001b[38;5;124m\"\u001b[39m)\n",
      "Cell \u001b[1;32mIn[17], line 65\u001b[0m, in \u001b[0;36minsert_data\u001b[1;34m(row)\u001b[0m\n\u001b[0;32m     43\u001b[0m cursor\u001b[38;5;241m.\u001b[39mexecute(\u001b[38;5;124m\"\"\"\u001b[39m\n\u001b[0;32m     44\u001b[0m \u001b[38;5;124m    IF NOT EXISTS (\u001b[39m\n\u001b[0;32m     45\u001b[0m \u001b[38;5;124m        SELECT 1 FROM Socioeconomic_Factors WHERE Year=? AND StatFP=? AND CountyFP=? AND Tract=?\u001b[39m\n\u001b[1;32m   (...)\u001b[0m\n\u001b[0;32m     61\u001b[0m      safe_val(row[\u001b[38;5;124m'\u001b[39m\u001b[38;5;124mUnemployed\u001b[39m\u001b[38;5;124m'\u001b[39m]),\n\u001b[0;32m     62\u001b[0m      safe_val(row[\u001b[38;5;124m'\u001b[39m\u001b[38;5;124mNot in Labor Force\u001b[39m\u001b[38;5;124m'\u001b[39m]))\n\u001b[0;32m     64\u001b[0m \u001b[38;5;66;03m# === HOUSING_DATA ===\u001b[39;00m\n\u001b[1;32m---> 65\u001b[0m \u001b[43mcursor\u001b[49m\u001b[38;5;241;43m.\u001b[39;49m\u001b[43mexecute\u001b[49m\u001b[43m(\u001b[49m\u001b[38;5;124;43m\"\"\"\u001b[39;49m\n\u001b[0;32m     66\u001b[0m \u001b[38;5;124;43m    IF NOT EXISTS (\u001b[39;49m\n\u001b[0;32m     67\u001b[0m \u001b[38;5;124;43m        SELECT 1 FROM Housing_Data WHERE Year=? AND StatFP=? AND CountyFP=? AND Tract=?\u001b[39;49m\n\u001b[0;32m     68\u001b[0m \u001b[38;5;124;43m    )\u001b[39;49m\n\u001b[0;32m     69\u001b[0m \u001b[38;5;124;43m    INSERT INTO Housing_Data\u001b[39;49m\n\u001b[0;32m     70\u001b[0m \u001b[38;5;124;43m    VALUES (?, ?, ?, ?, ?, ?, ?, ?, ?, ?)\u001b[39;49m\n\u001b[0;32m     71\u001b[0m \u001b[38;5;124;43m\u001b[39;49m\u001b[38;5;124;43m\"\"\"\u001b[39;49m\u001b[43m,\u001b[49m\u001b[43m \u001b[49m\u001b[43myear\u001b[49m\u001b[43m,\u001b[49m\u001b[43m \u001b[49m\u001b[43mStatFP\u001b[49m\u001b[43m,\u001b[49m\u001b[43m \u001b[49m\u001b[43mCountyFP\u001b[49m\u001b[43m,\u001b[49m\u001b[43m \u001b[49m\u001b[43mTract\u001b[49m\u001b[43m,\u001b[49m\n\u001b[0;32m     72\u001b[0m \u001b[43m     \u001b[49m\u001b[43myear\u001b[49m\u001b[43m,\u001b[49m\u001b[43m \u001b[49m\u001b[43mStatFP\u001b[49m\u001b[43m,\u001b[49m\u001b[43m \u001b[49m\u001b[43mCountyFP\u001b[49m\u001b[43m,\u001b[49m\u001b[43m \u001b[49m\u001b[43mTract\u001b[49m\u001b[43m,\u001b[49m\n\u001b[0;32m     73\u001b[0m \u001b[43m     \u001b[49m\u001b[43msafe_val\u001b[49m\u001b[43m(\u001b[49m\u001b[43mrow\u001b[49m\u001b[43m[\u001b[49m\u001b[38;5;124;43m'\u001b[39;49m\u001b[38;5;124;43mVacant Housing Units\u001b[39;49m\u001b[38;5;124;43m'\u001b[39;49m\u001b[43m]\u001b[49m\u001b[43m)\u001b[49m\u001b[43m,\u001b[49m\n\u001b[0;32m     74\u001b[0m \u001b[43m     \u001b[49m\u001b[43msafe_val\u001b[49m\u001b[43m(\u001b[49m\u001b[43mrow\u001b[49m\u001b[43m[\u001b[49m\u001b[38;5;124;43m'\u001b[39;49m\u001b[38;5;124;43mOwner-Occupied Units\u001b[39;49m\u001b[38;5;124;43m'\u001b[39;49m\u001b[43m]\u001b[49m\u001b[43m)\u001b[49m\u001b[43m,\u001b[49m\n\u001b[0;32m     75\u001b[0m \u001b[43m     \u001b[49m\u001b[43msafe_val\u001b[49m\u001b[43m(\u001b[49m\u001b[43mrow\u001b[49m\u001b[43m[\u001b[49m\u001b[38;5;124;43m'\u001b[39;49m\u001b[38;5;124;43mRenter-Occupied Units\u001b[39;49m\u001b[38;5;124;43m'\u001b[39;49m\u001b[43m]\u001b[49m\u001b[43m)\u001b[49m\u001b[43m,\u001b[49m\n\u001b[0;32m     76\u001b[0m \u001b[43m     \u001b[49m\u001b[43msafe_val\u001b[49m\u001b[43m(\u001b[49m\u001b[43mrow\u001b[49m\u001b[43m[\u001b[49m\u001b[38;5;124;43m'\u001b[39;49m\u001b[38;5;124;43mMedian Home Value\u001b[39;49m\u001b[38;5;124;43m'\u001b[39;49m\u001b[43m]\u001b[49m\u001b[43m)\u001b[49m\u001b[43m,\u001b[49m\n\u001b[0;32m     77\u001b[0m \u001b[43m     \u001b[49m\u001b[43msafe_val\u001b[49m\u001b[43m(\u001b[49m\u001b[43mrow\u001b[49m\u001b[43m[\u001b[49m\u001b[38;5;124;43m'\u001b[39;49m\u001b[38;5;124;43mMedian Gross Rent\u001b[39;49m\u001b[38;5;124;43m'\u001b[39;49m\u001b[43m]\u001b[49m\u001b[43m)\u001b[49m\u001b[43m,\u001b[49m\n\u001b[0;32m     78\u001b[0m \u001b[43m     \u001b[49m\u001b[43msafe_val\u001b[49m\u001b[43m(\u001b[49m\u001b[43mrow\u001b[49m\u001b[43m[\u001b[49m\u001b[38;5;124;43m'\u001b[39;49m\u001b[38;5;124;43mHousehold Size\u001b[39;49m\u001b[38;5;124;43m'\u001b[39;49m\u001b[43m]\u001b[49m\u001b[43m)\u001b[49m\u001b[43m)\u001b[49m\n\u001b[0;32m     80\u001b[0m \u001b[38;5;66;03m# === TRANSPORTATION_MOBILITY ===\u001b[39;00m\n\u001b[0;32m     81\u001b[0m cursor\u001b[38;5;241m.\u001b[39mexecute(\u001b[38;5;124m\"\"\"\u001b[39m\n\u001b[0;32m     82\u001b[0m \u001b[38;5;124m    IF NOT EXISTS (\u001b[39m\n\u001b[0;32m     83\u001b[0m \u001b[38;5;124m        SELECT 1 FROM Transportation_Mobility WHERE Year=? AND StatFP=? AND CountyFP=? AND Tract=?\u001b[39m\n\u001b[1;32m   (...)\u001b[0m\n\u001b[0;32m     95\u001b[0m      safe_val(row[\u001b[38;5;124m'\u001b[39m\u001b[38;5;124m3 or More Vehicles Available\u001b[39m\u001b[38;5;124m'\u001b[39m]),\n\u001b[0;32m     96\u001b[0m      safe_val(row[\u001b[38;5;124m'\u001b[39m\u001b[38;5;124mCar Ownership per Household\u001b[39m\u001b[38;5;124m'\u001b[39m]))\n",
      "\u001b[1;31mKeyboardInterrupt\u001b[0m: "
     ]
    }
   ],
   "source": [
    "\n",
    "# Loop over each CSV\n",
    "for file in glob.glob(\"acs_race_population_*.csv\"):\n",
    "    print(f\"Inserting: {file}\")\n",
    "    df = pd.read_csv(file)\n",
    "\n",
    "    # Fix columns for clean referencing\n",
    "    df.columns = df.columns.str.strip()\n",
    "\n",
    "    for _, row in df.iterrows():\n",
    "        insert_data(row)\n",
    "\n",
    "print(\"✅ All data inserted.\")"
   ]
  },
  {
   "cell_type": "code",
   "execution_count": null,
   "metadata": {},
   "outputs": [],
   "source": [
    "Bachelor’s Degree or Higher"
   ]
  }
 ],
 "metadata": {
  "kernelspec": {
   "display_name": "Python 3",
   "language": "python",
   "name": "python3"
  },
  "language_info": {
   "codemirror_mode": {
    "name": "ipython",
    "version": 3
   },
   "file_extension": ".py",
   "mimetype": "text/x-python",
   "name": "python",
   "nbconvert_exporter": "python",
   "pygments_lexer": "ipython3",
   "version": "3.12.9"
  }
 },
 "nbformat": 4,
 "nbformat_minor": 2
}
